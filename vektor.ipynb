{
 "cells": [
  {
   "cell_type": "code",
   "execution_count": 1,
   "metadata": {},
   "outputs": [
    {
     "name": "stdout",
     "output_type": "stream",
     "text": [
      "[1 2 3]\n"
     ]
    }
   ],
   "source": [
    "#Vektor Horiontal\n",
    "import numpy as np\n",
    "a = [1,2,3]\n",
    "vektor1 = np.array(a)\n",
    "print(vektor1)"
   ]
  },
  {
   "cell_type": "code",
   "execution_count": 2,
   "metadata": {},
   "outputs": [
    {
     "name": "stdout",
     "output_type": "stream",
     "text": [
      "[[1]\n",
      " [2]\n",
      " [3]]\n"
     ]
    }
   ],
   "source": [
    "# Vektor Vertikal\n",
    "import numpy as np\n",
    "\n",
    "b = [[1],[2],[3]]\n",
    "vektor2 = np.array(b)\n",
    "print(vektor2)"
   ]
  },
  {
   "cell_type": "code",
   "execution_count": 4,
   "metadata": {},
   "outputs": [
    {
     "name": "stdout",
     "output_type": "stream",
     "text": [
      "[[ 0]\n",
      " [ 4]\n",
      " [13]]\n"
     ]
    }
   ],
   "source": [
    "# Penjumlahan Vektor\n",
    "import numpy as np\n",
    "\n",
    "c = [[1],[2],[3]]\n",
    "d = [[-1],[2],[10]]\n",
    "vektor3 = np.array(c) + np.array(d)\n",
    "print(vektor3)"
   ]
  },
  {
   "cell_type": "code",
   "execution_count": 5,
   "metadata": {},
   "outputs": [
    {
     "name": "stdout",
     "output_type": "stream",
     "text": [
      "[[ 2]\n",
      " [ 0]\n",
      " [-7]]\n"
     ]
    }
   ],
   "source": [
    "# Pengurangan Vektor\n",
    "import numpy as np\n",
    "\n",
    "c = [[1],[2],[3]]\n",
    "d = [[-1],[2],[10]]\n",
    "vektor3 = np.array(c) - np.array(d)\n",
    "print(vektor3)"
   ]
  },
  {
   "cell_type": "code",
   "execution_count": 6,
   "metadata": {},
   "outputs": [
    {
     "name": "stdout",
     "output_type": "stream",
     "text": [
      "[[ 1]\n",
      " [ 2]\n",
      " [ 3]\n",
      " [-1]\n",
      " [ 2]\n",
      " [10]]\n"
     ]
    }
   ],
   "source": [
    "# Append Vektor\n",
    "import numpy as np\n",
    "\n",
    "c = [[1],[2],[3]]\n",
    "d = [[-1],[2],[10]]\n",
    "vektor3 = np.array(c+d)\n",
    "print(vektor3)"
   ]
  },
  {
   "cell_type": "code",
   "execution_count": null,
   "metadata": {},
   "outputs": [],
   "source": []
  },
  {
   "cell_type": "markdown",
   "metadata": {},
   "source": []
  },
  {
   "cell_type": "markdown",
   "metadata": {},
   "source": []
  },
  {
   "cell_type": "markdown",
   "metadata": {},
   "source": []
  },
  {
   "cell_type": "markdown",
   "metadata": {},
   "source": []
  },
  {
   "cell_type": "markdown",
   "metadata": {},
   "source": []
  },
  {
   "cell_type": "markdown",
   "metadata": {},
   "source": []
  },
  {
   "cell_type": "markdown",
   "metadata": {},
   "source": []
  }
 ],
 "metadata": {
  "kernelspec": {
   "display_name": "Python 3",
   "language": "python",
   "name": "python3"
  },
  "language_info": {
   "codemirror_mode": {
    "name": "ipython",
    "version": 3
   },
   "file_extension": ".py",
   "mimetype": "text/x-python",
   "name": "python",
   "nbconvert_exporter": "python",
   "pygments_lexer": "ipython3",
   "version": "3.10.13"
  }
 },
 "nbformat": 4,
 "nbformat_minor": 2
}
