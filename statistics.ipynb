{
 "cells": [
  {
   "cell_type": "code",
   "execution_count": 2,
   "metadata": {},
   "outputs": [
    {
     "name": "stdout",
     "output_type": "stream",
     "text": [
      "164.8\n",
      "164.0\n"
     ]
    }
   ],
   "source": [
    "tb = [160, 165, 170, 155, 175, 162, 168, 172, 163, 158]\n",
    "tot = sum(tb)\n",
    "mean = tot/len(tb)\n",
    "print(mean)\n",
    "\n",
    "tb.sort()\n",
    "n = len(tb)\n",
    "if n%2 == 1:\n",
    "  median = tb[n//2]\n",
    "else:\n",
    "  median = (tb[n//2-1] + tb[n//2])/2\n",
    "print(median)"
   ]
  },
  {
   "cell_type": "code",
   "execution_count": 1,
   "metadata": {},
   "outputs": [
    {
     "name": "stdout",
     "output_type": "stream",
     "text": [
      "Nilai Sangat Baik\n"
     ]
    }
   ],
   "source": [
    "def grade(n):\n",
    "    if n>=80:\n",
    "        return \"Nilai Sangat Baik\"\n",
    "    elif n >= 60:\n",
    "        return \"Nilai Cukup\"\n",
    "    else:\n",
    "        return \"Kurang\"\n",
    "    \n",
    "print(grade(90))"
   ]
  }
 ],
 "metadata": {
  "kernelspec": {
   "display_name": "Python 3",
   "language": "python",
   "name": "python3"
  },
  "language_info": {
   "codemirror_mode": {
    "name": "ipython",
    "version": 3
   },
   "file_extension": ".py",
   "mimetype": "text/x-python",
   "name": "python",
   "nbconvert_exporter": "python",
   "pygments_lexer": "ipython3",
   "version": "3.12.1"
  }
 },
 "nbformat": 4,
 "nbformat_minor": 2
}
